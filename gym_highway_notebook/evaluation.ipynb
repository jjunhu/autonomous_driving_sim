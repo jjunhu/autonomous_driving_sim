{
 "cells": [
  {
   "cell_type": "code",
   "execution_count": 5,
   "metadata": {},
   "outputs": [],
   "source": [
    "import gymnasium as gym\n",
    "import pandas as pd\n",
    "from stable_baselines3 import DQN, PPO\n",
    "from stable_baselines3.common.evaluation import evaluate_policy\n",
    "import highway_env\n",
    "\n",
    "# Load models\n",
    "dqn_model = DQN.load(\"./highway_dqn/baseline_model\")\n",
    "ppo_model = PPO.load(\"./highway_ppo/baseline_model\")\n",
    "dqn_cnn_model = DQN.load(\"highway_cnn/model\")\n"
   ]
  },
  {
   "cell_type": "code",
   "execution_count": 37,
   "metadata": {},
   "outputs": [
    {
     "name": "stderr",
     "output_type": "stream",
     "text": [
      "/Users/jonathanhu/anaconda3/lib/python3.11/site-packages/gymnasium/core.py:311: UserWarning: \u001b[33mWARN: env.configure to get variables from other wrappers is deprecated and will be removed in v1.0, to get this variable you can do `env.unwrapped.configure` for environment variables or `env.get_wrapper_attr('configure')` that will search the reminding wrappers.\u001b[0m\n",
      "  logger.warn(\n",
      "/Users/jonathanhu/anaconda3/lib/python3.11/site-packages/stable_baselines3/common/evaluation.py:67: UserWarning: Evaluation environment is not wrapped with a ``Monitor`` wrapper. This may result in reporting modified episode lengths and rewards, if other wrappers happen to modify these. Consider wrapping environment first with ``Monitor`` wrapper.\n",
      "  warnings.warn(\n",
      "/Users/jonathanhu/anaconda3/lib/python3.11/site-packages/gymnasium/core.py:311: UserWarning: \u001b[33mWARN: env.configure to get variables from other wrappers is deprecated and will be removed in v1.0, to get this variable you can do `env.unwrapped.configure` for environment variables or `env.get_wrapper_attr('configure')` that will search the reminding wrappers.\u001b[0m\n",
      "  logger.warn(\n",
      "/Users/jonathanhu/anaconda3/lib/python3.11/site-packages/stable_baselines3/common/evaluation.py:67: UserWarning: Evaluation environment is not wrapped with a ``Monitor`` wrapper. This may result in reporting modified episode lengths and rewards, if other wrappers happen to modify these. Consider wrapping environment first with ``Monitor`` wrapper.\n",
      "  warnings.warn(\n",
      "/Users/jonathanhu/anaconda3/lib/python3.11/site-packages/gymnasium/wrappers/monitoring/video_recorder.py:178: UserWarning: \u001b[33mWARN: Unable to save last video! Did you call close()?\u001b[0m\n",
      "  logger.warn(\"Unable to save last video! Did you call close()?\")\n",
      "/Users/jonathanhu/anaconda3/lib/python3.11/site-packages/gymnasium/core.py:311: UserWarning: \u001b[33mWARN: env.configure to get variables from other wrappers is deprecated and will be removed in v1.0, to get this variable you can do `env.unwrapped.configure` for environment variables or `env.get_wrapper_attr('configure')` that will search the reminding wrappers.\u001b[0m\n",
      "  logger.warn(\n",
      "/Users/jonathanhu/anaconda3/lib/python3.11/site-packages/stable_baselines3/common/evaluation.py:67: UserWarning: Evaluation environment is not wrapped with a ``Monitor`` wrapper. This may result in reporting modified episode lengths and rewards, if other wrappers happen to modify these. Consider wrapping environment first with ``Monitor`` wrapper.\n",
      "  warnings.warn(\n",
      "/Users/jonathanhu/anaconda3/lib/python3.11/site-packages/gymnasium/core.py:311: UserWarning: \u001b[33mWARN: env.configure to get variables from other wrappers is deprecated and will be removed in v1.0, to get this variable you can do `env.unwrapped.configure` for environment variables or `env.get_wrapper_attr('configure')` that will search the reminding wrappers.\u001b[0m\n",
      "  logger.warn(\n",
      "/Users/jonathanhu/anaconda3/lib/python3.11/site-packages/stable_baselines3/common/evaluation.py:67: UserWarning: Evaluation environment is not wrapped with a ``Monitor`` wrapper. This may result in reporting modified episode lengths and rewards, if other wrappers happen to modify these. Consider wrapping environment first with ``Monitor`` wrapper.\n",
      "  warnings.warn(\n",
      "/Users/jonathanhu/anaconda3/lib/python3.11/site-packages/gymnasium/core.py:311: UserWarning: \u001b[33mWARN: env.configure to get variables from other wrappers is deprecated and will be removed in v1.0, to get this variable you can do `env.unwrapped.configure` for environment variables or `env.get_wrapper_attr('configure')` that will search the reminding wrappers.\u001b[0m\n",
      "  logger.warn(\n",
      "/Users/jonathanhu/anaconda3/lib/python3.11/site-packages/stable_baselines3/common/evaluation.py:67: UserWarning: Evaluation environment is not wrapped with a ``Monitor`` wrapper. This may result in reporting modified episode lengths and rewards, if other wrappers happen to modify these. Consider wrapping environment first with ``Monitor`` wrapper.\n",
      "  warnings.warn(\n",
      "/Users/jonathanhu/anaconda3/lib/python3.11/site-packages/gymnasium/core.py:311: UserWarning: \u001b[33mWARN: env.configure to get variables from other wrappers is deprecated and will be removed in v1.0, to get this variable you can do `env.unwrapped.configure` for environment variables or `env.get_wrapper_attr('configure')` that will search the reminding wrappers.\u001b[0m\n",
      "  logger.warn(\n",
      "/Users/jonathanhu/anaconda3/lib/python3.11/site-packages/stable_baselines3/common/evaluation.py:67: UserWarning: Evaluation environment is not wrapped with a ``Monitor`` wrapper. This may result in reporting modified episode lengths and rewards, if other wrappers happen to modify these. Consider wrapping environment first with ``Monitor`` wrapper.\n",
      "  warnings.warn(\n",
      "/Users/jonathanhu/anaconda3/lib/python3.11/site-packages/gymnasium/core.py:311: UserWarning: \u001b[33mWARN: env.configure to get variables from other wrappers is deprecated and will be removed in v1.0, to get this variable you can do `env.unwrapped.configure` for environment variables or `env.get_wrapper_attr('configure')` that will search the reminding wrappers.\u001b[0m\n",
      "  logger.warn(\n",
      "/Users/jonathanhu/anaconda3/lib/python3.11/site-packages/stable_baselines3/common/evaluation.py:67: UserWarning: Evaluation environment is not wrapped with a ``Monitor`` wrapper. This may result in reporting modified episode lengths and rewards, if other wrappers happen to modify these. Consider wrapping environment first with ``Monitor`` wrapper.\n",
      "  warnings.warn(\n",
      "/Users/jonathanhu/anaconda3/lib/python3.11/site-packages/gymnasium/core.py:311: UserWarning: \u001b[33mWARN: env.configure to get variables from other wrappers is deprecated and will be removed in v1.0, to get this variable you can do `env.unwrapped.configure` for environment variables or `env.get_wrapper_attr('configure')` that will search the reminding wrappers.\u001b[0m\n",
      "  logger.warn(\n",
      "/Users/jonathanhu/anaconda3/lib/python3.11/site-packages/stable_baselines3/common/evaluation.py:67: UserWarning: Evaluation environment is not wrapped with a ``Monitor`` wrapper. This may result in reporting modified episode lengths and rewards, if other wrappers happen to modify these. Consider wrapping environment first with ``Monitor`` wrapper.\n",
      "  warnings.warn(\n",
      "/Users/jonathanhu/anaconda3/lib/python3.11/site-packages/gymnasium/core.py:311: UserWarning: \u001b[33mWARN: env.configure to get variables from other wrappers is deprecated and will be removed in v1.0, to get this variable you can do `env.unwrapped.configure` for environment variables or `env.get_wrapper_attr('configure')` that will search the reminding wrappers.\u001b[0m\n",
      "  logger.warn(\n",
      "/Users/jonathanhu/anaconda3/lib/python3.11/site-packages/stable_baselines3/common/evaluation.py:67: UserWarning: Evaluation environment is not wrapped with a ``Monitor`` wrapper. This may result in reporting modified episode lengths and rewards, if other wrappers happen to modify these. Consider wrapping environment first with ``Monitor`` wrapper.\n",
      "  warnings.warn(\n"
     ]
    },
    {
     "name": "stdout",
     "output_type": "stream",
     "text": [
      "                Scenario  DQN Mean Reward  PPO Mean Reward  \\\n",
      "0       Base Environment        20.699262        20.820221   \n",
      "1  Higher Vehicles Count        15.953726        17.766887   \n",
      "2     Higher Lanes Count        21.316783        18.830853   \n",
      "\n",
      "   DQN CNN Mean Reward  \n",
      "0            21.120221  \n",
      "1            20.720221  \n",
      "2            21.380221  \n"
     ]
    }
   ],
   "source": [
    "def evaluate_performance(model, env_config, num_episodes=10):\n",
    "    env = gym.make('highway-fast-v0', render_mode='rgb_array')\n",
    "    env.configure(env_config)\n",
    "    env.reset()\n",
    "    mean_reward, std_reward = evaluate_policy(model, env, n_eval_episodes=num_episodes)\n",
    "    return mean_reward, std_reward\n",
    "\n",
    "# Define configurations for each scenario\n",
    "configurations = [\n",
    "    {\"controlled_vehicles\": 1, \"vehicles_count\": 20, \"lanes_count\": 3, \"description\": \"Base Environment\"},\n",
    "    {\"controlled_vehicles\": 1, \"vehicles_count\": 40, \"lanes_count\": 3, \"description\": \"Higher Vehicles Count\"},\n",
    "    {\"controlled_vehicles\": 1, \"vehicles_count\": 20, \"lanes_count\": 6, \"description\": \"Higher Lanes Count\"},\n",
    "]\n",
    "\n",
    "# Results table\n",
    "results = []\n",
    "\n",
    "for config in configurations:\n",
    "\n",
    "    dqn_performance = evaluate_performance(dqn_model, config)\n",
    "    ppo_performance = evaluate_performance(ppo_model, config)\n",
    "    config.update(\n",
    "        {\"observation\": {\n",
    "            \"type\": \"GrayscaleObservation\",\n",
    "            \"observation_shape\": (128, 64),\n",
    "            \"stack_size\": 4,\n",
    "            \"weights\": [0.2989, 0.5870, 0.1140],  # weights for RGB conversion\n",
    "            \"scaling\": 1.75,\n",
    "        }})\n",
    "    dqn_cnn_performance = evaluate_performance(dqn_cnn_model, config)\n",
    "\n",
    "    \n",
    "    results.append({\n",
    "        \"Scenario\": config[\"description\"],\n",
    "        \"DQN Mean Reward\": dqn_performance[0],\n",
    "        \"PPO Mean Reward\": ppo_performance[0],\n",
    "        \"DQN CNN Mean Reward\": dqn_cnn_performance[0] if config[\"controlled_vehicles\"] == 1 else \"N/A\"\n",
    "    })\n",
    "\n",
    "# Convert results to DataFrame for better visualization\n",
    "results_df = pd.DataFrame(results)\n",
    "print(results_df)\n"
   ]
  },
  {
   "cell_type": "code",
   "execution_count": 36,
   "metadata": {},
   "outputs": [
    {
     "name": "stderr",
     "output_type": "stream",
     "text": [
      "/Users/jonathanhu/anaconda3/lib/python3.11/site-packages/gymnasium/core.py:311: UserWarning: \u001b[33mWARN: env.configure to get variables from other wrappers is deprecated and will be removed in v1.0, to get this variable you can do `env.unwrapped.configure` for environment variables or `env.get_wrapper_attr('configure')` that will search the reminding wrappers.\u001b[0m\n",
      "  logger.warn(\n",
      "/Users/jonathanhu/anaconda3/lib/python3.11/site-packages/stable_baselines3/common/evaluation.py:67: UserWarning: Evaluation environment is not wrapped with a ``Monitor`` wrapper. This may result in reporting modified episode lengths and rewards, if other wrappers happen to modify these. Consider wrapping environment first with ``Monitor`` wrapper.\n",
      "  warnings.warn(\n",
      "t:  62%|██████▏   | 278/451 [14:41<00:00, 891.68it/s, now=None]"
     ]
    },
    {
     "name": "stdout",
     "output_type": "stream",
     "text": [
      "Moviepy - Building video /Users/jonathanhu/autonomous_driving_sim/highway_DQN_Base Environment/rl-video-episode-0.mp4.\n",
      "Moviepy - Writing video /Users/jonathanhu/autonomous_driving_sim/highway_DQN_Base Environment/rl-video-episode-0.mp4\n",
      "\n"
     ]
    },
    {
     "name": "stderr",
     "output_type": "stream",
     "text": [
      "t:  62%|██████▏   | 278/451 [14:41<00:00, 891.68it/s, now=None]/Users/jonathanhu/anaconda3/lib/python3.11/site-packages/gymnasium/core.py:311: UserWarning: \u001b[33mWARN: env.configure to get variables from other wrappers is deprecated and will be removed in v1.0, to get this variable you can do `env.unwrapped.configure` for environment variables or `env.get_wrapper_attr('configure')` that will search the reminding wrappers.\u001b[0m\n",
      "  logger.warn(\n",
      "/Users/jonathanhu/anaconda3/lib/python3.11/site-packages/stable_baselines3/common/evaluation.py:67: UserWarning: Evaluation environment is not wrapped with a ``Monitor`` wrapper. This may result in reporting modified episode lengths and rewards, if other wrappers happen to modify these. Consider wrapping environment first with ``Monitor`` wrapper.\n",
      "  warnings.warn(\n"
     ]
    },
    {
     "name": "stdout",
     "output_type": "stream",
     "text": [
      "Moviepy - Done !\n",
      "Moviepy - video ready /Users/jonathanhu/autonomous_driving_sim/highway_DQN_Base Environment/rl-video-episode-0.mp4\n"
     ]
    },
    {
     "name": "stderr",
     "output_type": "stream",
     "text": [
      "t:  62%|██████▏   | 278/451 [14:42<00:00, 891.68it/s, now=None]"
     ]
    },
    {
     "name": "stdout",
     "output_type": "stream",
     "text": [
      "Moviepy - Building video /Users/jonathanhu/autonomous_driving_sim/highway_PPO_Base Environment/rl-video-episode-0.mp4.\n",
      "Moviepy - Writing video /Users/jonathanhu/autonomous_driving_sim/highway_PPO_Base Environment/rl-video-episode-0.mp4\n",
      "\n"
     ]
    },
    {
     "name": "stderr",
     "output_type": "stream",
     "text": [
      "t:  62%|██████▏   | 278/451 [14:42<00:00, 891.68it/s, now=None]/Users/jonathanhu/anaconda3/lib/python3.11/site-packages/gymnasium/core.py:311: UserWarning: \u001b[33mWARN: env.configure to get variables from other wrappers is deprecated and will be removed in v1.0, to get this variable you can do `env.unwrapped.configure` for environment variables or `env.get_wrapper_attr('configure')` that will search the reminding wrappers.\u001b[0m\n",
      "  logger.warn(\n",
      "/Users/jonathanhu/anaconda3/lib/python3.11/site-packages/stable_baselines3/common/evaluation.py:67: UserWarning: Evaluation environment is not wrapped with a ``Monitor`` wrapper. This may result in reporting modified episode lengths and rewards, if other wrappers happen to modify these. Consider wrapping environment first with ``Monitor`` wrapper.\n",
      "  warnings.warn(\n"
     ]
    },
    {
     "name": "stdout",
     "output_type": "stream",
     "text": [
      "Moviepy - Done !\n",
      "Moviepy - video ready /Users/jonathanhu/autonomous_driving_sim/highway_PPO_Base Environment/rl-video-episode-0.mp4\n"
     ]
    },
    {
     "name": "stderr",
     "output_type": "stream",
     "text": [
      "t:  62%|██████▏   | 278/451 [14:44<00:00, 891.68it/s, now=None]"
     ]
    },
    {
     "name": "stdout",
     "output_type": "stream",
     "text": [
      "Moviepy - Building video /Users/jonathanhu/autonomous_driving_sim/highway_DQNCNN_Base Environment/rl-video-episode-0.mp4.\n",
      "Moviepy - Writing video /Users/jonathanhu/autonomous_driving_sim/highway_DQNCNN_Base Environment/rl-video-episode-0.mp4\n",
      "\n"
     ]
    },
    {
     "name": "stderr",
     "output_type": "stream",
     "text": [
      "t:  62%|██████▏   | 278/451 [14:45<00:00, 891.68it/s, now=None]/Users/jonathanhu/anaconda3/lib/python3.11/site-packages/gymnasium/core.py:311: UserWarning: \u001b[33mWARN: env.configure to get variables from other wrappers is deprecated and will be removed in v1.0, to get this variable you can do `env.unwrapped.configure` for environment variables or `env.get_wrapper_attr('configure')` that will search the reminding wrappers.\u001b[0m\n",
      "  logger.warn(\n",
      "/Users/jonathanhu/anaconda3/lib/python3.11/site-packages/stable_baselines3/common/evaluation.py:67: UserWarning: Evaluation environment is not wrapped with a ``Monitor`` wrapper. This may result in reporting modified episode lengths and rewards, if other wrappers happen to modify these. Consider wrapping environment first with ``Monitor`` wrapper.\n",
      "  warnings.warn(\n"
     ]
    },
    {
     "name": "stdout",
     "output_type": "stream",
     "text": [
      "Moviepy - Done !\n",
      "Moviepy - video ready /Users/jonathanhu/autonomous_driving_sim/highway_DQNCNN_Base Environment/rl-video-episode-0.mp4\n"
     ]
    },
    {
     "name": "stderr",
     "output_type": "stream",
     "text": [
      "t:  62%|██████▏   | 278/451 [14:48<00:00, 891.68it/s, now=None]"
     ]
    },
    {
     "name": "stdout",
     "output_type": "stream",
     "text": [
      "Moviepy - Building video /Users/jonathanhu/autonomous_driving_sim/highway_DQN_Higher Vehicles Count/rl-video-episode-0.mp4.\n",
      "Moviepy - Writing video /Users/jonathanhu/autonomous_driving_sim/highway_DQN_Higher Vehicles Count/rl-video-episode-0.mp4\n",
      "\n"
     ]
    },
    {
     "name": "stderr",
     "output_type": "stream",
     "text": [
      "t:  62%|██████▏   | 278/451 [14:49<00:00, 891.68it/s, now=None]/Users/jonathanhu/anaconda3/lib/python3.11/site-packages/gymnasium/core.py:311: UserWarning: \u001b[33mWARN: env.configure to get variables from other wrappers is deprecated and will be removed in v1.0, to get this variable you can do `env.unwrapped.configure` for environment variables or `env.get_wrapper_attr('configure')` that will search the reminding wrappers.\u001b[0m\n",
      "  logger.warn(\n",
      "/Users/jonathanhu/anaconda3/lib/python3.11/site-packages/stable_baselines3/common/evaluation.py:67: UserWarning: Evaluation environment is not wrapped with a ``Monitor`` wrapper. This may result in reporting modified episode lengths and rewards, if other wrappers happen to modify these. Consider wrapping environment first with ``Monitor`` wrapper.\n",
      "  warnings.warn(\n"
     ]
    },
    {
     "name": "stdout",
     "output_type": "stream",
     "text": [
      "Moviepy - Done !\n",
      "Moviepy - video ready /Users/jonathanhu/autonomous_driving_sim/highway_DQN_Higher Vehicles Count/rl-video-episode-0.mp4\n"
     ]
    },
    {
     "name": "stderr",
     "output_type": "stream",
     "text": [
      "t:  62%|██████▏   | 278/451 [14:53<00:00, 891.68it/s, now=None]"
     ]
    },
    {
     "name": "stdout",
     "output_type": "stream",
     "text": [
      "Moviepy - Building video /Users/jonathanhu/autonomous_driving_sim/highway_PPO_Higher Vehicles Count/rl-video-episode-0.mp4.\n",
      "Moviepy - Writing video /Users/jonathanhu/autonomous_driving_sim/highway_PPO_Higher Vehicles Count/rl-video-episode-0.mp4\n",
      "\n"
     ]
    },
    {
     "name": "stderr",
     "output_type": "stream",
     "text": [
      "t:  62%|██████▏   | 278/451 [14:53<00:00, 891.68it/s, now=None]/Users/jonathanhu/anaconda3/lib/python3.11/site-packages/gymnasium/core.py:311: UserWarning: \u001b[33mWARN: env.configure to get variables from other wrappers is deprecated and will be removed in v1.0, to get this variable you can do `env.unwrapped.configure` for environment variables or `env.get_wrapper_attr('configure')` that will search the reminding wrappers.\u001b[0m\n",
      "  logger.warn(\n",
      "/Users/jonathanhu/anaconda3/lib/python3.11/site-packages/stable_baselines3/common/evaluation.py:67: UserWarning: Evaluation environment is not wrapped with a ``Monitor`` wrapper. This may result in reporting modified episode lengths and rewards, if other wrappers happen to modify these. Consider wrapping environment first with ``Monitor`` wrapper.\n",
      "  warnings.warn(\n"
     ]
    },
    {
     "name": "stdout",
     "output_type": "stream",
     "text": [
      "Moviepy - Done !\n",
      "Moviepy - video ready /Users/jonathanhu/autonomous_driving_sim/highway_PPO_Higher Vehicles Count/rl-video-episode-0.mp4\n"
     ]
    },
    {
     "name": "stderr",
     "output_type": "stream",
     "text": [
      "t:  62%|██████▏   | 278/451 [14:57<00:00, 891.68it/s, now=None]"
     ]
    },
    {
     "name": "stdout",
     "output_type": "stream",
     "text": [
      "Moviepy - Building video /Users/jonathanhu/autonomous_driving_sim/highway_DQNCNN_Higher Vehicles Count/rl-video-episode-0.mp4.\n",
      "Moviepy - Writing video /Users/jonathanhu/autonomous_driving_sim/highway_DQNCNN_Higher Vehicles Count/rl-video-episode-0.mp4\n",
      "\n"
     ]
    },
    {
     "name": "stderr",
     "output_type": "stream",
     "text": [
      "t:  62%|██████▏   | 278/451 [14:58<00:00, 891.68it/s, now=None]/Users/jonathanhu/anaconda3/lib/python3.11/site-packages/gymnasium/core.py:311: UserWarning: \u001b[33mWARN: env.configure to get variables from other wrappers is deprecated and will be removed in v1.0, to get this variable you can do `env.unwrapped.configure` for environment variables or `env.get_wrapper_attr('configure')` that will search the reminding wrappers.\u001b[0m\n",
      "  logger.warn(\n",
      "/Users/jonathanhu/anaconda3/lib/python3.11/site-packages/stable_baselines3/common/evaluation.py:67: UserWarning: Evaluation environment is not wrapped with a ``Monitor`` wrapper. This may result in reporting modified episode lengths and rewards, if other wrappers happen to modify these. Consider wrapping environment first with ``Monitor`` wrapper.\n",
      "  warnings.warn(\n"
     ]
    },
    {
     "name": "stdout",
     "output_type": "stream",
     "text": [
      "Moviepy - Done !\n",
      "Moviepy - video ready /Users/jonathanhu/autonomous_driving_sim/highway_DQNCNN_Higher Vehicles Count/rl-video-episode-0.mp4\n"
     ]
    },
    {
     "name": "stderr",
     "output_type": "stream",
     "text": [
      "t:  62%|██████▏   | 278/451 [14:59<00:00, 891.68it/s, now=None]"
     ]
    },
    {
     "name": "stdout",
     "output_type": "stream",
     "text": [
      "Moviepy - Building video /Users/jonathanhu/autonomous_driving_sim/highway_DQN_Higher Lanes Count/rl-video-episode-0.mp4.\n",
      "Moviepy - Writing video /Users/jonathanhu/autonomous_driving_sim/highway_DQN_Higher Lanes Count/rl-video-episode-0.mp4\n",
      "\n"
     ]
    },
    {
     "name": "stderr",
     "output_type": "stream",
     "text": [
      "t:  62%|██████▏   | 278/451 [14:59<00:00, 891.68it/s, now=None]/Users/jonathanhu/anaconda3/lib/python3.11/site-packages/gymnasium/core.py:311: UserWarning: \u001b[33mWARN: env.configure to get variables from other wrappers is deprecated and will be removed in v1.0, to get this variable you can do `env.unwrapped.configure` for environment variables or `env.get_wrapper_attr('configure')` that will search the reminding wrappers.\u001b[0m\n",
      "  logger.warn(\n",
      "/Users/jonathanhu/anaconda3/lib/python3.11/site-packages/stable_baselines3/common/evaluation.py:67: UserWarning: Evaluation environment is not wrapped with a ``Monitor`` wrapper. This may result in reporting modified episode lengths and rewards, if other wrappers happen to modify these. Consider wrapping environment first with ``Monitor`` wrapper.\n",
      "  warnings.warn(\n"
     ]
    },
    {
     "name": "stdout",
     "output_type": "stream",
     "text": [
      "Moviepy - Done !\n",
      "Moviepy - video ready /Users/jonathanhu/autonomous_driving_sim/highway_DQN_Higher Lanes Count/rl-video-episode-0.mp4\n"
     ]
    },
    {
     "name": "stderr",
     "output_type": "stream",
     "text": [
      "t:  62%|██████▏   | 278/451 [15:02<00:00, 891.68it/s, now=None]"
     ]
    },
    {
     "name": "stdout",
     "output_type": "stream",
     "text": [
      "Moviepy - Building video /Users/jonathanhu/autonomous_driving_sim/highway_PPO_Higher Lanes Count/rl-video-episode-0.mp4.\n",
      "Moviepy - Writing video /Users/jonathanhu/autonomous_driving_sim/highway_PPO_Higher Lanes Count/rl-video-episode-0.mp4\n",
      "\n"
     ]
    },
    {
     "name": "stderr",
     "output_type": "stream",
     "text": [
      "t:  62%|██████▏   | 278/451 [15:02<00:00, 891.68it/s, now=None]/Users/jonathanhu/anaconda3/lib/python3.11/site-packages/gymnasium/core.py:311: UserWarning: \u001b[33mWARN: env.configure to get variables from other wrappers is deprecated and will be removed in v1.0, to get this variable you can do `env.unwrapped.configure` for environment variables or `env.get_wrapper_attr('configure')` that will search the reminding wrappers.\u001b[0m\n",
      "  logger.warn(\n",
      "/Users/jonathanhu/anaconda3/lib/python3.11/site-packages/stable_baselines3/common/evaluation.py:67: UserWarning: Evaluation environment is not wrapped with a ``Monitor`` wrapper. This may result in reporting modified episode lengths and rewards, if other wrappers happen to modify these. Consider wrapping environment first with ``Monitor`` wrapper.\n",
      "  warnings.warn(\n"
     ]
    },
    {
     "name": "stdout",
     "output_type": "stream",
     "text": [
      "Moviepy - Done !\n",
      "Moviepy - video ready /Users/jonathanhu/autonomous_driving_sim/highway_PPO_Higher Lanes Count/rl-video-episode-0.mp4\n"
     ]
    },
    {
     "name": "stderr",
     "output_type": "stream",
     "text": [
      "t:  62%|██████▏   | 278/451 [15:05<00:00, 891.68it/s, now=None]"
     ]
    },
    {
     "name": "stdout",
     "output_type": "stream",
     "text": [
      "Moviepy - Building video /Users/jonathanhu/autonomous_driving_sim/highway_DQNCNN_Higher Lanes Count/rl-video-episode-0.mp4.\n",
      "Moviepy - Writing video /Users/jonathanhu/autonomous_driving_sim/highway_DQNCNN_Higher Lanes Count/rl-video-episode-0.mp4\n",
      "\n"
     ]
    },
    {
     "name": "stderr",
     "output_type": "stream",
     "text": [
      "t:  62%|██████▏   | 278/451 [15:06<00:00, 891.68it/s, now=None]"
     ]
    },
    {
     "name": "stdout",
     "output_type": "stream",
     "text": [
      "Moviepy - Done !\n",
      "Moviepy - video ready /Users/jonathanhu/autonomous_driving_sim/highway_DQNCNN_Higher Lanes Count/rl-video-episode-0.mp4\n"
     ]
    }
   ],
   "source": [
    "from HighwayEnv.scripts.utils import record_videos\n",
    "\n",
    "# Define configurations for each scenario\n",
    "configurations = [\n",
    "    {\"controlled_vehicles\": 1, \"vehicles_count\": 20, \"lanes_count\": 3, \"description\": \"Base Environment\"},\n",
    "    {\"controlled_vehicles\": 1, \"vehicles_count\": 40, \"lanes_count\": 3, \"description\": \"Higher Vehicles Count\"},\n",
    "    {\"controlled_vehicles\": 1, \"vehicles_count\": 20, \"lanes_count\": 6, \"description\": \"Higher Lanes Count\"},\n",
    "]\n",
    "\n",
    "def evaluate_and_record(model, env_config, name, num_episodes=1):\n",
    "    env = gym.make('highway-fast-v0', render_mode='rgb_array')\n",
    "    env = record_videos(env, video_folder=name)\n",
    "    env.unwrapped.set_record_video_wrapper(env)\n",
    "    env.configure({\"simulation_frequency\": 15})  # Higher FPS for rendering)\n",
    "    \n",
    "    env.configure(env_config)\n",
    "    env.reset()\n",
    "    mean_reward, std_reward = evaluate_policy(model, env, n_eval_episodes=num_episodes)\n",
    "    return mean_reward, std_reward\n",
    "\n",
    "for config in configurations:\n",
    "\n",
    "    dqn_performance = evaluate_and_record(dqn_model, config, f\"./highway_DQN_{config['description']}\")\n",
    "    ppo_performance = evaluate_and_record(ppo_model, config, f\"./highway_PPO_{config['description']}\")\n",
    "    config.update(\n",
    "        {\"observation\": {\n",
    "            \"type\": \"GrayscaleObservation\",\n",
    "            \"observation_shape\": (128, 64),\n",
    "            \"stack_size\": 4,\n",
    "            \"weights\": [0.2989, 0.5870, 0.1140],  # weights for RGB conversion\n",
    "            \"scaling\": 1.75,\n",
    "        }})\n",
    "    dqn_cnn_performance = evaluate_and_record(dqn_cnn_model, config, f\"./highway_DQNCNN_{config['description']}\")"
   ]
  },
  {
   "cell_type": "code",
   "execution_count": 38,
   "metadata": {},
   "outputs": [
    {
     "name": "stdout",
     "output_type": "stream",
     "text": [
      "             Scenario  DQN Mean Reward  PPO Mean Reward  DQN CNN Mean Reward\n",
      "     Base Environment        20.699262        20.820221            21.120221\n",
      "Higher Vehicles Count        15.953726        17.766887            20.720221\n",
      "   Higher Lanes Count        21.316783        18.830853            21.380221\n"
     ]
    },
    {
     "data": {
      "image/png": "[encoded data removed]",
      "text/plain": [
       "<Figure size 1000x600 with 1 Axes>"
      ]
     },
     "metadata": {},
     "output_type": "display_data"
    }
   ],
   "source": [
    "import pandas as pd\n",
    "import matplotlib.pyplot as plt\n",
    "\n",
    "# Print DataFrame in a pretty format\n",
    "print(results_df.to_string(index=False))\n",
    "\n",
    "# Plotting\n",
    "fig, ax = plt.subplots(figsize=(10, 6))\n",
    "bar_width = 0.25  # the width of the bars\n",
    "scenarios = results_df['Scenario']\n",
    "x = np.arange(len(scenarios))  # the label locations\n",
    "\n",
    "# Plot each model's performance\n",
    "rects1 = ax.bar(x - bar_width, results_df['DQN Mean Reward'], bar_width, label='DQN')\n",
    "rects2 = ax.bar(x, results_df['PPO Mean Reward'], bar_width, label='PPO')\n",
    "rects3 = ax.bar(x + bar_width, results_df['DQN CNN Mean Reward'], bar_width, label='DQN CNN')\n",
    "\n",
    "# Add some text for labels, title and custom x-axis tick labels, etc.\n",
    "ax.set_xlabel('Scenarios')\n",
    "ax.set_ylabel('Mean Rewards')\n",
    "ax.set_title('Mean Rewards by Scenario and Model')\n",
    "ax.set_xticks(x)\n",
    "ax.set_xticklabels(scenarios, rotation=45, ha=\"right\")\n",
    "ax.legend()\n",
    "\n",
    "# Show the plot\n",
    "plt.tight_layout()\n",
    "plt.show()\n"
   ]
  }
 ],
 "metadata": {
  "kernelspec": {
   "display_name": "base",
   "language": "python",
   "name": "python3"
  },
  "language_info": {
   "codemirror_mode": {
    "name": "ipython",
    "version": 3
   },
   "file_extension": ".py",
   "mimetype": "text/x-python",
   "name": "python",
   "nbconvert_exporter": "python",
   "pygments_lexer": "ipython3",
   "version": "3.11.4"
  }
 },
 "nbformat": 4,
 "nbformat_minor": 2
}
